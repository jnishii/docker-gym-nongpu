{
 "cells": [
  {
   "cell_type": "markdown",
   "metadata": {
    "colab_type": "text",
    "id": "Z4NUv3jjv1Vh"
   },
   "source": [
    "# CartPole by virtual display\n",
    "https://medium.com/@kaleajit27/reinforcement-learning-on-google-colab-9cb2e1ef51e"
   ]
  },
  {
   "cell_type": "code",
   "execution_count": 1,
   "metadata": {
    "colab": {
     "base_uri": "https://localhost:8080/",
     "height": 54
    },
    "colab_type": "code",
    "id": "UankRExK5-Gp",
    "outputId": "30453326-fa4f-411e-ecfa-22449577484d"
   },
   "outputs": [
    {
     "data": {
      "text/plain": [
       "<Display cmd_param=['Xvfb', '-br', '-nolisten', 'tcp', '-screen', '0', '1400x900x24', ':1001'] cmd=['Xvfb', '-br', '-nolisten', 'tcp', '-screen', '0', '1400x900x24', ':1001'] oserror=None return_code=None stdout=\"None\" stderr=\"None\" timeout_happened=False>"
      ]
     },
     "execution_count": 1,
     "metadata": {},
     "output_type": "execute_result"
    }
   ],
   "source": [
    "# activate virtual display\n",
    "from pyvirtualdisplay import Display\n",
    "display = Display(visible=0, size=(1400, 900))\n",
    "display.start()\n",
    "\n",
    "# This code creates a virtual display to draw game images on. \n",
    "# If you are running locally, just ignore it\n",
    "import os\n",
    "if type(os.environ.get(\"DISPLAY\")) is not str or len(os.environ.get(\"DISPLAY\"))==0:\n",
    "    !bash ../xvfb start\n",
    "    %env DISPLAY=:1"
   ]
  },
  {
   "cell_type": "markdown",
   "metadata": {
    "colab_type": "text",
    "id": "w2xLaYy3swOg"
   },
   "source": [
    "# CartPole\n",
    "https://www.kumilog.net/entry/openai-gym-rl"
   ]
  },
  {
   "cell_type": "code",
   "execution_count": 11,
   "metadata": {},
   "outputs": [
    {
     "name": "stdout",
     "output_type": "stream",
     "text": [
      "\u001b[33mWARN: gym.spaces.Box autodetected dtype as <class 'numpy.float32'>. Please provide explicit dtype.\u001b[0m\n",
      "Episode finished after 14 timesteps\n"
     ]
    },
    {
     "data": {
      "image/png": "[encoded data removed]",
      "text/plain": [
       "<Figure size 432x288 with 1 Axes>"
      ]
     },
     "metadata": {},
     "output_type": "display_data"
    }
   ],
   "source": [
    "import numpy as np\n",
    "import matplotlib.pyplot as plt\n",
    "%matplotlib inline\n",
    "import gym\n",
    "\n",
    "# 環境の作成\n",
    "env = gym.make('CartPole-v0')\n",
    "\n",
    "# 環境の初期化\n",
    "env.reset()\n",
    "\n",
    "# 1000step回す\n",
    "for t in range(1000):\n",
    "#    env.render()  # 描画\n",
    "    plt.imshow(env.render('rgb_array'))\n",
    "\n",
    "    action = env.action_space.sample()  # ランダムに行動を選択\n",
    "    observation, reward, done, info = env.step(action)  # 行動を実行\n",
    "    if done:\n",
    "        print(\"Episode finished after {} timesteps\".format(t+1))\n",
    "        break"
   ]
  },
  {
   "cell_type": "code",
   "execution_count": 13,
   "metadata": {},
   "outputs": [
    {
     "name": "stderr",
     "output_type": "stream",
     "text": [
      "usage: ipykernel_launcher.py [-h] [--episode EPISODE] [--out OUT] [--random]\n",
      "                             [--verbose]\n",
      "                             [env_id]\n",
      "ipykernel_launcher.py: error: unrecognized arguments: -f\n"
     ]
    },
    {
     "ename": "SystemExit",
     "evalue": "2",
     "output_type": "error",
     "traceback": [
      "An exception has occurred, use %tb to see the full traceback.\n",
      "\u001b[0;31mSystemExit\u001b[0m\u001b[0;31m:\u001b[0m 2\n"
     ]
    },
    {
     "name": "stderr",
     "output_type": "stream",
     "text": [
      "/usr/local/lib/python3.5/dist-packages/IPython/core/interactiveshell.py:2969: UserWarning: To exit: use 'exit', 'quit', or Ctrl-D.\n",
      "  warn(\"To exit: use 'exit', 'quit', or Ctrl-D.\", stacklevel=1)\n"
     ]
    }
   ],
   "source": [
    "import argparse\n",
    "from collections import defaultdict\n",
    "\n",
    "import gym\n",
    "import numpy as np\n",
    "\n",
    "\n",
    "class Q(object):\n",
    "\n",
    "    def __init__(self, action_space, observation_space, bin_size):\n",
    "        self.n_actions = action_space.n\n",
    "        self.observation_space = observation_space\n",
    "        self.config = {\n",
    "            'low_bound': None,\n",
    "            'high_bound': None,\n",
    "            'init_mean': 0.0,\n",
    "            'init_std': 0.0\n",
    "        }\n",
    "        self._observation_dimension = 1\n",
    "        for d in self.observation_space.shape:\n",
    "            self._observation_dimension *= d\n",
    "\n",
    "        if isinstance(bin_size, list):\n",
    "            self._bin_sizes = bin_size\n",
    "        else:\n",
    "            self._bin_sizes = [bin_size] * self._observation_dimension\n",
    "\n",
    "        self._dimension_bins = []\n",
    "        for i, low, high in self._low_high_iter():\n",
    "            b_size = self._bin_sizes[i]\n",
    "            bins = self._make_bins(low, high, b_size)\n",
    "            self._dimension_bins.append(bins)\n",
    "\n",
    "            mean = self.config['init_mean']\n",
    "            std = self.config['init_std']\n",
    "        self.table = defaultdict(lambda: std * np.random.randn(self.n_actions) + mean)\n",
    "\n",
    "    def _make_bins(self, low, high, bin_size):\n",
    "        bins = np.arange(low, high, (float(high) - float(low)) / (bin_size - 2))\n",
    "        if min(bins) < 0 and 0 not in bins:\n",
    "            bins = np.sort(np.append(bins, [0]))\n",
    "        return bins\n",
    "\n",
    "    def _low_high_iter(self):\n",
    "        lows = self.observation_space.low\n",
    "        highs = self.observation_space.high\n",
    "        low_bound = self.config['low_bound']\n",
    "        high_bound = self.config['high_bound']\n",
    "\n",
    "        for i in range(len(lows)):\n",
    "            low = lows[i]\n",
    "            if low_bound is not None:\n",
    "                _low_bound = low_bound if not isinstance(low_bound, list) else low_bound[i]\n",
    "                low = low if _low_bound is None else max(low, _low_bound)\n",
    "\n",
    "            high = highs[i]\n",
    "            if high_bound is not None:\n",
    "                _high_bound = high_bound if not isinstance(high_bound, list) else high_bound[i]\n",
    "                high = high if _high_bound is None else min(high, _high_bound)\n",
    "\n",
    "            yield i, low, high\n",
    "\n",
    "    def observation_to_state(self, observation):\n",
    "        state = 0\n",
    "        unit = max(self._bin_sizes)\n",
    "        for d, o in enumerate(observation.flatten()):\n",
    "            state = state + np.digitize(o, self._dimension_bins[d]) * pow(unit, d)\n",
    "        return state\n",
    "\n",
    "    def values(self, observation):\n",
    "        state = self.observation_to_state(observation)\n",
    "        return self.table[state]\n",
    "\n",
    "\n",
    "class QAgent(object):\n",
    "    def __init__(self, q):\n",
    "        self.config = {\n",
    "            'learning_rate': 0.1,\n",
    "            'init_eps': 0.5,\n",
    "            'gamma': 0.95,\n",
    "            'n_iter': 200}\n",
    "        self.q = q\n",
    "        self.eps = self.config['init_eps']\n",
    "\n",
    "    def act(self, obs):\n",
    "        if self.eps > 0.1:\n",
    "            self.eps *= 0.9999\n",
    "        else:\n",
    "            self.eps = 0.1\n",
    "\n",
    "        if np.random.random() < self.eps:\n",
    "            action = np.random.choice(self.q.n_actions)\n",
    "        else:\n",
    "            action = np.argmax(self.q.values(obs))\n",
    "\n",
    "        return action\n",
    "\n",
    "    def train(self, obs, next_obs, reward, done):\n",
    "        lr = self.config['learning_rate']\n",
    "        gamma = self.config['gamma']\n",
    "\n",
    "        action = self.act(obs)\n",
    "        state = self.q.observation_to_state(obs)\n",
    "\n",
    "        future = 0.0\n",
    "        if not done:\n",
    "            future = np.max(self.q.values(next_obs))\n",
    "\n",
    "        loss = reward + gamma * future - self.q.table[state][action]\n",
    "        self.q.table[state][action] += lr * loss\n",
    "\n",
    "        return loss\n",
    "\n",
    "\n",
    "def main(args):\n",
    "    print('Make {} environment'.format(args.env_id))\n",
    "    env = gym.make(args.env_id)\n",
    "\n",
    "    env = gym.wrappers.Monitor(env, directory=args.out, force=True)\n",
    "    env.seed(0)\n",
    "    q = Q(env.action_space, env.observation_space, bin_size=[3, 3, 8, 5])\n",
    "    agent = QAgent(q)\n",
    "\n",
    "    for e in range(args.episode):\n",
    "        obs = env.reset()\n",
    "        R = 0\n",
    "        L = 0\n",
    "        reward = 0\n",
    "        action = env.action_space.sample()\n",
    "        done = False\n",
    "        for t in range(agent.config['n_iter']):\n",
    "            env.render()\n",
    "\n",
    "            if args.random:\n",
    "                action = env.action_space.sample()\n",
    "            else:\n",
    "                action = agent.act(obs)\n",
    "            next_obs, reward, done, _ = env.step(action)\n",
    "            if done:\n",
    "                reward = -200\n",
    "            loss = agent.train(obs, next_obs, reward, done)\n",
    "\n",
    "            if args.verbose:\n",
    "                print('iter: {}'.format(t))\n",
    "                print('\\tobservation: {}'.format(obs))\n",
    "                print('\\taction: {}'.format(action))\n",
    "                print('\\treward: {}'.format(reward))\n",
    "                print('\\tloss: {}'.format(loss))\n",
    "                print('\\teps: {}'.format(agent.eps))\n",
    "\n",
    "            if done:\n",
    "                break\n",
    "\n",
    "            obs = next_obs\n",
    "            R += reward\n",
    "            L += loss\n",
    "        print('Episode {}: total reward={}, average loss={:.4f}'.format(e, R, L/t))\n",
    "\n",
    "    env.close()\n",
    "\n",
    "\n",
    "if __name__ == '__main__':\n",
    "    parser = argparse.ArgumentParser(description=None)\n",
    "    parser.add_argument('env_id', nargs='?', default='CartPole-v0',\n",
    "                        help='Select the environment to run')\n",
    "    parser.add_argument('--episode', '-e', type=int, default=100,\n",
    "                        help='Number of episodes')\n",
    "    parser.add_argument('--out', '-o', default='result',\n",
    "                        help='Directory to output the result')\n",
    "    parser.add_argument('--random', '-r', action='store_true')\n",
    "    parser.add_argument('--verbose', '-v', action='store_true')\n",
    "    main(parser.parse_args())"
   ]
  },
  {
   "cell_type": "code",
   "execution_count": 4,
   "metadata": {
    "colab": {
     "base_uri": "https://localhost:8080/",
     "height": 487
    },
    "colab_type": "code",
    "id": "MDeEhrXEsvDo",
    "outputId": "21f69502-955d-41c2-9f9b-1774806ca2a8"
   },
   "outputs": [
    {
     "name": "stdout",
     "output_type": "stream",
     "text": [
      "\u001b[33mWARN: gym.spaces.Box autodetected dtype as <class 'numpy.float32'>. Please provide explicit dtype.\u001b[0m\n"
     ]
    },
    {
     "ename": "NameError",
     "evalue": "name 'agent' is not defined",
     "output_type": "error",
     "traceback": [
      "\u001b[0;31m---------------------------------------------------------------------------\u001b[0m",
      "\u001b[0;31mNameError\u001b[0m                                 Traceback (most recent call last)",
      "\u001b[0;32m<ipython-input-4-65cdf6f3467c>\u001b[0m in \u001b[0;36m<module>\u001b[0;34m()\u001b[0m\n\u001b[1;32m     10\u001b[0m     \u001b[0;32mwhile\u001b[0m \u001b[0;32mnot\u001b[0m \u001b[0mdone\u001b[0m \u001b[0;32mand\u001b[0m \u001b[0mt\u001b[0m \u001b[0;34m<\u001b[0m \u001b[0;36m200\u001b[0m\u001b[0;34m:\u001b[0m\u001b[0;34m\u001b[0m\u001b[0m\n\u001b[1;32m     11\u001b[0m         \u001b[0mframes\u001b[0m\u001b[0;34m.\u001b[0m\u001b[0mappend\u001b[0m\u001b[0;34m(\u001b[0m\u001b[0menv\u001b[0m\u001b[0;34m.\u001b[0m\u001b[0mrender\u001b[0m\u001b[0;34m(\u001b[0m\u001b[0mmode\u001b[0m \u001b[0;34m=\u001b[0m \u001b[0;34m'rgb_array'\u001b[0m\u001b[0;34m)\u001b[0m\u001b[0;34m)\u001b[0m\u001b[0;34m\u001b[0m\u001b[0m\n\u001b[0;32m---> 12\u001b[0;31m         \u001b[0maction\u001b[0m \u001b[0;34m=\u001b[0m \u001b[0magent\u001b[0m\u001b[0;34m.\u001b[0m\u001b[0mact\u001b[0m\u001b[0;34m(\u001b[0m\u001b[0mobs\u001b[0m\u001b[0;34m)\u001b[0m\u001b[0;34m\u001b[0m\u001b[0m\n\u001b[0m\u001b[1;32m     13\u001b[0m \u001b[0;31m#        action=2\u001b[0m\u001b[0;34m\u001b[0m\u001b[0;34m\u001b[0m\u001b[0m\n\u001b[1;32m     14\u001b[0m         \u001b[0mobs\u001b[0m\u001b[0;34m,\u001b[0m \u001b[0mr\u001b[0m\u001b[0;34m,\u001b[0m \u001b[0mdone\u001b[0m\u001b[0;34m,\u001b[0m \u001b[0m_\u001b[0m \u001b[0;34m=\u001b[0m \u001b[0menv\u001b[0m\u001b[0;34m.\u001b[0m\u001b[0mstep\u001b[0m\u001b[0;34m(\u001b[0m\u001b[0maction\u001b[0m\u001b[0;34m)\u001b[0m\u001b[0;34m\u001b[0m\u001b[0m\n",
      "\u001b[0;31mNameError\u001b[0m: name 'agent' is not defined"
     ]
    }
   ],
   "source": [
    "# 環境の作成\n",
    "env = gym.make('CartPole-v0')\n",
    "\n",
    "frames = []\n",
    "for i in range(3):\n",
    "    obs = env.reset()\n",
    "    done = False\n",
    "    R = 0\n",
    "    t = 0\n",
    "    while not done and t < 200:\n",
    "        frames.append(env.render(mode = 'rgb_array'))\n",
    "        action = agent.act(obs)\n",
    "#        action=2\n",
    "        obs, r, done, _ = env.step(action)\n",
    "        R += r\n",
    "        t += 1\n",
    "    print('test episode:', i, 'R:', R)\n",
    "    agent.stop_episode()\n",
    "env.render()\n",
    "\n",
    "import matplotlib.animation\n",
    "from IPython.display import HTML\n",
    "\n",
    "plt.figure(figsize=(frames[0].shape[1] / 72.0, frames[0].shape[0] / 72.0), dpi = 72)\n",
    "patch = plt.imshow(frames[0])\n",
    "plt.axis('off')\n",
    "animate = lambda i: patch.set_data(frames[i])\n",
    "ani = matplotlib.animation.FuncAnimation(plt.gcf(), animate, frames=len(frames), interval = 50)\n",
    "HTML(ani.to_jshtml())"
   ]
  },
  {
   "cell_type": "code",
   "execution_count": null,
   "metadata": {
    "colab": {},
    "colab_type": "code",
    "id": "QRGAS7GzsqAk"
   },
   "outputs": [],
   "source": []
  },
  {
   "cell_type": "code",
   "execution_count": null,
   "metadata": {
    "colab": {},
    "colab_type": "code",
    "id": "V61WK3AAwCec"
   },
   "outputs": [],
   "source": []
  }
 ],
 "metadata": {
  "colab": {
   "name": "openAI_gym.ipynb",
   "provenance": [],
   "version": "0.3.2"
  },
  "kernelspec": {
   "display_name": "Python 3",
   "language": "python",
   "name": "python3"
  },
  "language_info": {
   "codemirror_mode": {
    "name": "ipython",
    "version": 3
   },
   "file_extension": ".py",
   "mimetype": "text/x-python",
   "name": "python",
   "nbconvert_exporter": "python",
   "pygments_lexer": "ipython3",
   "version": "3.5.2"
  }
 },
 "nbformat": 4,
 "nbformat_minor": 2
}
